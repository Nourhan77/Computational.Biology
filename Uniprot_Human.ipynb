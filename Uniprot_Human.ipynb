{
 "cells": [
  {
   "cell_type": "code",
   "execution_count": null,
   "metadata": {},
   "outputs": [],
   "source": [
    "from pyopenms import *\n",
    "from  Bio.SeqIO import parse\n",
    "from  Bio.SeqRecord import SeqRecord\n",
    "from  Bio.Seq import  Seq\n",
    "n=0\n",
    "dig = ProteaseDigestion() \n",
    "print(dig.getEnzymeName ())\n",
    "result = [] \n",
    "file= open(\"Uniprot_human_reviewed_14Nov2020.fasta\")\n",
    "records= parse(file,\"fasta\")\n",
    "for record in records:\n",
    "    n=n+1\n",
    "    print(\"Name_of_Protein :\", record.name)\n",
    "    bsa = AASequence.fromString (str(record.seq))\n",
    "    dig.digest(bsa, result)\n",
    "    for i in range (len(result)):\n",
    "        print(result[i])\n",
    "    print(\"_________________________________________________________________________\")\n",
    "    \n",
    "print (n)\n"
   ]
  }
 ],
 "metadata": {
  "kernelspec": {
   "display_name": "Python 3",
   "language": "python",
   "name": "python3"
  },
  "language_info": {
   "codemirror_mode": {
    "name": "ipython",
    "version": 3
   },
   "file_extension": ".py",
   "mimetype": "text/x-python",
   "name": "python",
   "nbconvert_exporter": "python",
   "pygments_lexer": "ipython3",
   "version": "3.7.6"
  }
 },
 "nbformat": 4,
 "nbformat_minor": 4
}
