{
 "cells": [
  {
   "cell_type": "code",
   "execution_count": 7,
   "metadata": {},
   "outputs": [],
   "source": [
    "def getPeptides (filename,saveIn):\n",
    "    dig = ProteaseDigestion() #get the trypsine protease to be used for cleaving the proteins into peptides\n",
    "    result = [] \n",
    "    file= open(filename) #read from this file\n",
    "    savefile = open(saveIn,\"w\")#store results in new file\n",
    "    records= parse(file,\"fasta\") #get each record in the file\n",
    "    \n",
    "    #get peptide sequence of each protein after cleaving by trypsin \n",
    "    for record in records:\n",
    "        savefile.writelines(\"Info_of_Protein : \"+ record.name+\"\\n\")\n",
    "        savefile.writelines(\"Peptide \"+\"\\t\"+\"Mass\\n\")\n",
    "        bsa = AASequence.fromString (str(record.seq))\n",
    "        dig.digest(bsa, result) #cleave protein by trypsin and store result (peptides) in result list\n",
    "\n",
    "        #write peptides and calculate there mass in a file\n",
    "        for i in range (len(result)):           \n",
    "            if \"X\" not in str(result[i]):       #ignore calculation of unknown amino acids “X” with the specified weight\n",
    "                savefile.writelines(str(result[i])+ \"\\t\"+str(result[i].getMonoWeight())+\"\\n\")\n",
    "        savefile.writelines(\"_________________________________________________________________________\\n \\n\")"
   ]
  },
  {
   "cell_type": "code",
   "execution_count": 8,
   "metadata": {},
   "outputs": [],
   "source": [
    "from pyopenms import *\n",
    "from  Bio.SeqIO import parse\n",
    "from  Bio.SeqRecord import SeqRecord\n",
    "from  Bio.Seq import  Seq\n",
    "filename=\"Uniprot_human_reviewed_14Nov2020.fasta\"\n",
    "saveIn=\"Peptides.txt\"\n",
    "getPeptides(filename,saveIn)\n"
   ]
  },
  {
   "cell_type": "code",
   "execution_count": null,
   "metadata": {},
   "outputs": [],
   "source": []
  }
 ],
 "metadata": {
  "kernelspec": {
   "display_name": "Python 3",
   "language": "python",
   "name": "python3"
  },
  "language_info": {
   "codemirror_mode": {
    "name": "ipython",
    "version": 3
   },
   "file_extension": ".py",
   "mimetype": "text/x-python",
   "name": "python",
   "nbconvert_exporter": "python",
   "pygments_lexer": "ipython3",
   "version": "3.7.6"
  }
 },
 "nbformat": 4,
 "nbformat_minor": 4
}
