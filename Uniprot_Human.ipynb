{
 "cells": [
  {
   "cell_type": "code",
   "execution_count": 10,
   "metadata": {},
   "outputs": [],
   "source": [
    "def getPeptides (filename,saveIn):\n",
    "    \n",
    "    dig = ProteaseDigestion() #get the trypsine protease to be used for cleaving the proteines into peptides\n",
    "    result = [] \n",
    "    file= open(filename) #read from this file\n",
    "    \n",
    "    savefile = open(saveIn,\"w\")#store results in new file\n",
    "    \n",
    "    records= parse(file,\"fasta\") #get each record in the file\n",
    "    \n",
    "    \n",
    "    #get amino acids of each peptide sequence\n",
    "    for record in records:\n",
    "        \n",
    "        savefile.writelines(\"Info_of_Protein :\"+ record.name+\"\\n\")\n",
    "        \n",
    "        bsa = AASequence.fromString (str(record.seq))\n",
    "        \n",
    "        dig.digest(bsa, result) #cleave protein by trypsin and store result in result list\n",
    "        \n",
    "        \n",
    "        \n",
    "        for i in range (len(result)):           \n",
    "            savefile.writelines(str(result[i])+ \" = \")   #write results  and calculate its mass in a file\n",
    "            if \"X\" not in str(result[i]):                #ignore calculation of unknown amino acid mass such as X AA\n",
    "                savefile.writelines(str(result[i].getMonoWeight())+\"\\n\")\n",
    "        \n",
    "        savefile.writelines(\"_________________________________________________________________________\\n\")\n",
    "\n"
   ]
  },
  {
   "cell_type": "code",
   "execution_count": 11,
   "metadata": {},
   "outputs": [],
   "source": [
    "from pyopenms import *\n",
    "from  Bio.SeqIO import parse\n",
    "from  Bio.SeqRecord import SeqRecord\n",
    "from  Bio.Seq import  Seq\n",
    "filename=\"Uniprot_human_reviewed_14Nov2020.fasta\"\n",
    "saveIn=\"Peptides.txt\"\n",
    "getPeptides(filename,saveIn)\n"
   ]
  },
  {
   "cell_type": "code",
   "execution_count": null,
   "metadata": {},
   "outputs": [],
   "source": []
  }
 ],
 "metadata": {
  "kernelspec": {
   "display_name": "Python 3",
   "language": "python",
   "name": "python3"
  },
  "language_info": {
   "codemirror_mode": {
    "name": "ipython",
    "version": 3
   },
   "file_extension": ".py",
   "mimetype": "text/x-python",
   "name": "python",
   "nbconvert_exporter": "python",
   "pygments_lexer": "ipython3",
   "version": "3.7.6"
  }
 },
 "nbformat": 4,
 "nbformat_minor": 4
}
